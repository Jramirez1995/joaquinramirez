{
  "cells": [
    {
      "cell_type": "raw",
      "metadata": {},
      "source": [
        "---\n",
        "title: \"About me\"\n",
        "---"
      ],
      "id": "0d038e33"
    },
    {
      "cell_type": "markdown",
      "metadata": {},
      "source": [
        "Over the years, through my work and academic experiences, I have learned to overcome challenges by focusing on aspects within my control. I recently realized that there is a difference between simple and easy: simple is not complicated, while easy means it requires little effort. My approach is simple: step out in faith and take that first step. When I get there, I will look back and wonder why it took me so long to start.\n",
        "\n",
        "I am blessed with a supportive family, friends, and a community of like-minded individuals. We are not meant to walk this life alone; the beauty of life lies in sharing the little moments with those dear to us. I have the opportunity to develop my career as a Data Analyst, learning consumer behaviorism, conducting price shops to gather competitive market pricing and provide suggestions, and developing charts, graphs, and reports to convey relevant metrics.\n",
        "\n",
        "In the Spring of 2021, I earned my Bachelor of Science in Mathematics from the University of Texas at San Antonio, and I am currently enrolled in the Data Analytics Master's program, scheduled to graduate in Spring 2025.\n",
        "\n",
        "Through my work and academic experience, I have become proficient in data analysis and interpretation using Tableau and RStudio, and I am currently expanding my proficiency in Python, GRTL, and SAS(SQL). Additionally, I am skilled with Microsoft Office tools, including Excel, Word, PowerPoint, and Access. I possess strong communication skills in both English and Spanish. I am detail-oriented, able to reason logically, and prioritize efficiently. I am a quick learner with a passion for continuous self-improvement, demonstrating initiative and eagerness to learn. I also have proficient problem-solving skills.\n",
        "\n",
        "I am originally from a small town called Marble Falls in the Hill Country and moved to San Antonio in January 2017. I try to take advantage of everything the city offers. When I am not working on my academics or career, you are likely to find me spending time with my family, exploring the rich history of the city, eating its authentic food, or walking my five-year-old pug named Mel.\n",
        "\n",
        "\n",
        "```{html}\n",
        "## Get in Touch\n",
        "\n",
        "To get in touch with me, please fill out the form below:\n",
        "\n",
        "<form action=\"https://formspree.io/f/xleqynbd\" method=\"POST\">\n",
        "  <label for=\"name\">Name:</label><br>\n",
        "  <input type=\"text\" id=\"name\" name=\"name\"><br><br>\n",
        "\n",
        "  <label for=\"address\">Address:</label><br>\n",
        "  <input type=\"text\" id=\"address\" name=\"address\"><br><br>\n",
        "\n",
        "  <label for=\"email\">Email:</label><br>\n",
        "  <input type=\"email\" id=\"email\" name=\"email\"><br><br>\n",
        "\n",
        "  <label for=\"phone\">Phone:</label><br>\n",
        "  <input type=\"tel\" id=\"phone\" name=\"phone\"><br><br>\n",
        "\n",
        "  <label for=\"subject\">Subject:</label><br>\n",
        "  <input type=\"text\" id=\"subject\" name=\"subject\"><br><br>\n",
        "\n",
        "  <label for=\"message\">Message:</label><br>\n",
        "  <textarea id=\"message\" name=\"message\" rows=\"4\" cols=\"50\"></textarea><br><br>\n",
        "\n",
        "  <input type=\"submit\" value=\"Submit\">\n",
        "</form>\n",
        "\n",
        "You can also reach me via email at [joaquinsoccer13@gmail.com](mailto:joaquinsoccer13@gmail.com) or by phone at (830) 220-0703\n",
        "```"
      ],
      "id": "0b9d8124"
    }
  ],
  "metadata": {
    "kernelspec": {
      "display_name": "Python 3",
      "language": "python",
      "name": "python3"
    }
  },
  "nbformat": 4,
  "nbformat_minor": 5
}